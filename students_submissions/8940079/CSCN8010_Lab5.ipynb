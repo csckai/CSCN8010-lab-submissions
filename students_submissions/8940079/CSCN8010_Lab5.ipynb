{
 "cells": [
  {
   "cell_type": "code",
   "execution_count": 6,
   "metadata": {},
   "outputs": [
    {
     "name": "stdout",
     "output_type": "stream",
     "text": [
      "   Degree  Mean R-Squared  Std R-Squared    Mean MAE     Std MAE\n",
      "0       1        0.452281       0.127329   45.580788    1.609128\n",
      "1       2       -0.089528       0.445264   62.386924   13.185748\n",
      "2       3     -508.700734     355.193526  942.229340  141.054469\n",
      "3       4      -45.379335      24.676917  295.558549   48.749112\n",
      "4       5      -44.383008      23.772236  292.955639   47.967113\n",
      "5       6      -44.385918      23.785306  292.951956   47.965431\n",
      "6       7      -44.385782      23.785132  292.949499   47.965919\n",
      "7       8      -44.385134      23.780852  292.953707   47.967797\n",
      "\n",
      "Best Model: Degree 1\n",
      "Mean R-Squared: 0.45\n",
      "Mean MAE: 45.58\n"
     ]
    }
   ],
   "source": [
    "from sklearn import datasets\n",
    "from sklearn.model_selection import train_test_split, cross_val_score\n",
    "from sklearn.preprocessing import PolynomialFeatures\n",
    "from sklearn.linear_model import LinearRegression\n",
    "import pandas as pd\n",
    "import numpy as np\n",
    "\n",
    "# Loading the Diabetes dataset\n",
    "diabetes_X, diabetes_y = datasets.load_diabetes(return_X_y=True)\n",
    "\n",
    "# Train-validation-test split\n",
    "X_train, X_temp, y_train, y_temp = train_test_split(diabetes_X, diabetes_y, test_size=0.3, random_state=42)\n",
    "X_val, X_test, y_val, y_test = train_test_split(X_temp, y_temp, test_size=0.5, random_state=42)\n",
    "\n",
    "# Data Preparation and Cross-Validation for Polynomial Degrees 1 to 8\n",
    "degrees = list(range(1, 9))\n",
    "cv_results = []\n",
    "\n",
    "for degree in degrees:\n",
    "    poly_features = PolynomialFeatures(degree=degree, include_bias=True)\n",
    "    X_train_poly = poly_features.fit_transform(X_train)\n",
    "    \n",
    "    # Cross-validation with 5 folds\n",
    "    r_squared_scores = cross_val_score(LinearRegression(), X_train_poly, y_train, cv=5, scoring='r2')\n",
    "    mae_scores = -cross_val_score(LinearRegression(), X_train_poly, y_train, cv=5, scoring='neg_mean_absolute_error')\n",
    "    \n",
    "    # Calculating mean and standard deviation of scores\n",
    "    mean_r_squared = np.mean(r_squared_scores)\n",
    "    std_r_squared = np.std(r_squared_scores)\n",
    "    mean_mae = np.mean(mae_scores)\n",
    "    std_mae = np.std(mae_scores)\n",
    "    \n",
    "    cv_results.append([degree, mean_r_squared, std_r_squared, mean_mae, std_mae])\n",
    "\n",
    "# Creating a DataFrame for the results\n",
    "results_df = pd.DataFrame(cv_results, columns=['Degree', 'Mean R-Squared', 'Std R-Squared', 'Mean MAE', 'Std MAE'])\n",
    "\n",
    "# Identifing the best model based on R-squared and MAE\n",
    "best_model = results_df.loc[results_df['Mean R-Squared'].idxmax()]\n",
    "\n",
    "# Print the table summarizing the cross-validation results\n",
    "print(results_df)\n",
    "\n",
    "# Print the best model and explanation for choosing it\n",
    "print(\"\\nBest Model: Degree {}\".format(int(best_model['Degree'])))\n",
    "print(\"Mean R-Squared: {:.2f}\".format(best_model['Mean R-Squared']))\n",
    "print(\"Mean MAE: {:.2f}\".format(best_model['Mean MAE']))\n"
   ]
  },
  {
   "cell_type": "markdown",
   "metadata": {},
   "source": [
    "The degree 1 polynomial model exhibits the highest mean R-squared value (0.45) and the lowest mean MAE (45.58) among the tested degrees. This indicates a better overall fit and predictive accuracy compared to higher-degree models. The simplicity of the linear relationship captured by the degree 1 polynomial model seems to generalize well to the dataset, making it the optimal choice for this particular regression task. Higher-degree models likely introduce unnecessary complexity, leading to poorer performance and potential overfitting. Also, degree 0 was omitted as it's a constant model regardless of the input."
   ]
  }
 ],
 "metadata": {
  "kernelspec": {
   "display_name": "CSCN8010_classic_ml",
   "language": "python",
   "name": "python3"
  },
  "language_info": {
   "codemirror_mode": {
    "name": "ipython",
    "version": 3
   },
   "file_extension": ".py",
   "mimetype": "text/x-python",
   "name": "python",
   "nbconvert_exporter": "python",
   "pygments_lexer": "ipython3",
   "version": "3.8.9"
  },
  "orig_nbformat": 4
 },
 "nbformat": 4,
 "nbformat_minor": 2
}
