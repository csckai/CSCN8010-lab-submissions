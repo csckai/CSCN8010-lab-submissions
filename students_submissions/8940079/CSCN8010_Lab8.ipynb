{
 "cells": [
  {
   "cell_type": "code",
   "execution_count": 4,
   "metadata": {},
   "outputs": [
    {
     "name": "stdout",
     "output_type": "stream",
     "text": [
      "Dot Product using PyTorch:\n",
      " tensor(98)\n",
      "\n",
      "Matrix Multiplication using PyTorch:\n",
      "\n",
      "tensor([[20, 28],\n",
      "        [52, 76]])\n"
     ]
    }
   ],
   "source": [
    "import torch\n",
    "\n",
    "# Calculate the dot product between two vectors of length 3\n",
    "vector1 = torch.tensor([3, 5, 7])\n",
    "vector2 = torch.tensor([4, 6, 8])\n",
    "dot_product = torch.dot(vector1, vector2)\n",
    "print(\"Dot Product using PyTorch:\\n\", dot_product)\n",
    "\n",
    "# Calculate the matrix multiplication of two 2-dimensional matrices (2x2)\n",
    "matrix1 = torch.tensor([[1, 3], [5, 7]])\n",
    "matrix2 = torch.tensor([[2, 4], [6, 8]])\n",
    "matrix_product = torch.matmul(matrix1, matrix2)\n",
    "print(\"\\nMatrix Multiplication using PyTorch:\\n\")\n",
    "print(matrix_product)\n"
   ]
  },
  {
   "cell_type": "code",
   "execution_count": 4,
   "metadata": {},
   "outputs": [
    {
     "name": "stdout",
     "output_type": "stream",
     "text": [
      "Dot Product using TensorFlow:\n",
      " tf.Tensor(98, shape=(), dtype=int32)\n",
      "\n",
      "Matrix Multiplication using TensorFlow:\n",
      "tf.Tensor(\n",
      "[[20 28]\n",
      " [52 76]], shape=(2, 2), dtype=int32)\n"
     ]
    }
   ],
   "source": [
    "import tensorflow as tf\n",
    "\n",
    "# Define the vectors using TensorFlow\n",
    "vector1_tf = tf.constant([3, 5, 7], dtype=tf.int32)\n",
    "vector2_tf = tf.constant([4, 6, 8], dtype=tf.int32)\n",
    "\n",
    "# Calculate the dot product between the vectors\n",
    "dot_product_tf = tf.reduce_sum(tf.multiply(vector1_tf, vector2_tf))\n",
    "print(\"Dot Product using TensorFlow:\\n\", dot_product_tf)\n",
    "\n",
    "# Define the matrices using TensorFlow\n",
    "matrix1_tf = tf.constant([[1, 3], [5, 7]], dtype=tf.int32)\n",
    "matrix2_tf = tf.constant([[2, 4], [6, 8]], dtype=tf.int32)\n",
    "\n",
    "# Calculate the matrix multiplication of the matrices\n",
    "matrix_product_tf = tf.matmul(matrix1_tf, matrix2_tf)\n",
    "print(\"\\nMatrix Multiplication using TensorFlow:\")\n",
    "print(matrix_product_tf)\n"
   ]
  }
 ],
 "metadata": {
  "kernelspec": {
   "display_name": "tensorflow_cpu",
   "language": "python",
   "name": "tensorflow_cpu"
  },
  "language_info": {
   "codemirror_mode": {
    "name": "ipython",
    "version": 3
   },
   "file_extension": ".py",
   "mimetype": "text/x-python",
   "name": "python",
   "nbconvert_exporter": "python",
   "pygments_lexer": "ipython3",
   "version": "3.11.0"
  }
 },
 "nbformat": 4,
 "nbformat_minor": 2
}
