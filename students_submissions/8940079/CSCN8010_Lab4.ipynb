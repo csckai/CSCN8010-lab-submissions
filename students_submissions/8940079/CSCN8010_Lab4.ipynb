{
 "cells": [
  {
   "cell_type": "code",
   "execution_count": 2,
   "metadata": {},
   "outputs": [
    {
     "name": "stdout",
     "output_type": "stream",
     "text": [
      "Multivariate Linear Regression: \n",
      "R-squared: 0.51\n",
      "MAPE: 0.35\n",
      "MAE: 38.22\n",
      "\n",
      "Polynomial Regression (2nd degree) on BMI: \n",
      "R-squared: 0.30\n",
      "MAPE: 0.42\n",
      "MAE: 48.27\n",
      "\n",
      "Multivariate Polynomial Regression (2nd degree): \n",
      "R-squared: 0.37\n",
      "MAPE: 0.38\n",
      "MAE: 42.47\n",
      "\n",
      "Number of parameters in Multivariate Linear Regression: 10\n",
      "Number of parameters in Polynomial Regression (2nd degree) on BMI: 2\n",
      "Number of parameters in Multivariate Polynomial Regression (2nd degree): 65\n"
     ]
    }
   ],
   "source": [
    "from sklearn import datasets\n",
    "from sklearn.model_selection import train_test_split\n",
    "from sklearn.linear_model import LinearRegression\n",
    "from sklearn.preprocessing import PolynomialFeatures\n",
    "from sklearn.metrics import r2_score, mean_absolute_error, mean_absolute_percentage_error\n",
    "\n",
    "# Loading the Diabetes dataset\n",
    "diabetes_X, diabetes_y = datasets.load_diabetes(return_X_y=True)\n",
    "\n",
    "# Train-validation-test split\n",
    "X_train, X_temp, y_train, y_temp = train_test_split(diabetes_X, diabetes_y, test_size=0.3, random_state=42)\n",
    "X_val, X_test, y_val, y_test = train_test_split(X_temp, y_temp, test_size=0.5, random_state=42)\n",
    "\n",
    "# Multivariate Linear Regression\n",
    "linear_reg = LinearRegression()\n",
    "linear_reg.fit(X_train, y_train)\n",
    "linear_reg_predictions = linear_reg.predict(X_val)\n",
    "linear_reg_r2 = r2_score(y_val, linear_reg_predictions)\n",
    "linear_reg_mae = mean_absolute_error(y_val, linear_reg_predictions)\n",
    "linear_reg_mape = mean_absolute_percentage_error(y_val, linear_reg_predictions)\n",
    "\n",
    "# Polynomial Regression (2nd degree) on BMI feature alone\n",
    "poly_features = PolynomialFeatures(degree=2, include_bias=False)\n",
    "X_train_bmi_poly = poly_features.fit_transform(X_train[:, [2]])\n",
    "X_val_bmi_poly = poly_features.transform(X_val[:, [2]])\n",
    "poly_reg_bmi = LinearRegression()\n",
    "poly_reg_bmi.fit(X_train_bmi_poly, y_train)\n",
    "poly_reg_bmi_predictions = poly_reg_bmi.predict(X_val_bmi_poly)\n",
    "poly_reg_bmi_r2 = r2_score(y_val, poly_reg_bmi_predictions)\n",
    "poly_reg_bmi_mae = mean_absolute_error(y_val, poly_reg_bmi_predictions)\n",
    "poly_reg_bmi_mape = mean_absolute_percentage_error(y_val, poly_reg_bmi_predictions)\n",
    "\n",
    "# Multivariate Polynomial Regression (2nd degree) on all variables\n",
    "poly_features_all = PolynomialFeatures(degree=2, include_bias=False)\n",
    "X_train_poly = poly_features_all.fit_transform(X_train)\n",
    "X_val_poly = poly_features_all.transform(X_val)\n",
    "poly_reg_all = LinearRegression()\n",
    "poly_reg_all.fit(X_train_poly, y_train)\n",
    "poly_reg_all_predictions = poly_reg_all.predict(X_val_poly)\n",
    "poly_reg_all_r2 = r2_score(y_val, poly_reg_all_predictions)\n",
    "poly_reg_all_mae = mean_absolute_error(y_val, poly_reg_all_predictions)\n",
    "poly_reg_all_mape = mean_absolute_percentage_error(y_val, poly_reg_all_predictions)\n",
    "\n",
    "# Print R-squared, MAPE, and MAE for each model with 3 decimal places and each value on a new line\n",
    "print(f\"Multivariate Linear Regression: \\nR-squared: {linear_reg_r2:.2f}\\nMAPE: {linear_reg_mape:.2f}\\nMAE: {linear_reg_mae:.2f}\")\n",
    "print(f\"\\nPolynomial Regression (2nd degree) on BMI: \\nR-squared: {poly_reg_bmi_r2:.2f}\\nMAPE: {poly_reg_bmi_mape:.2f}\\nMAE: {poly_reg_bmi_mae:.2f}\")\n",
    "print(f\"\\nMultivariate Polynomial Regression (2nd degree): \\nR-squared: {poly_reg_all_r2:.2f}\\nMAPE: {poly_reg_all_mape:.2f}\\nMAE: {poly_reg_all_mae:.2f}\")\n",
    "\n",
    "print(\"\\nNumber of parameters in Multivariate Linear Regression:\", linear_reg.coef_.shape[0])\n",
    "print(\"Number of parameters in Polynomial Regression (2nd degree) on BMI:\", poly_reg_bmi.coef_.shape[0])\n",
    "print(\"Number of parameters in Multivariate Polynomial Regression (2nd degree):\", poly_reg_all.coef_.shape[0])\n",
    "\n"
   ]
  },
  {
   "cell_type": "markdown",
   "metadata": {},
   "source": [
    "The multivariate linear regression, explaining 51% of the variance with 10 parameters, outperforms the polynomial models on Scikit-Learn's Diabetes dataset. A second-degree polynomial regression focusing on BMI has 2 parameters and explains 30% of the variance. A multivariate second-degree polynomial regression, involving 65 parameters, explains 37% of the variance. Despite its simplicity, the multivariate linear regression strikes the best balance between accuracy and complexity, making it the optimal choice for deployment, ensuring reasonable predictive power without overfitting in practical applications."
   ]
  }
 ],
 "metadata": {
  "kernelspec": {
   "display_name": "CSCN8010_classic_ml",
   "language": "python",
   "name": "python3"
  },
  "language_info": {
   "codemirror_mode": {
    "name": "ipython",
    "version": 3
   },
   "file_extension": ".py",
   "mimetype": "text/x-python",
   "name": "python",
   "nbconvert_exporter": "python",
   "pygments_lexer": "ipython3",
   "version": "3.8.9"
  },
  "orig_nbformat": 4
 },
 "nbformat": 4,
 "nbformat_minor": 2
}
